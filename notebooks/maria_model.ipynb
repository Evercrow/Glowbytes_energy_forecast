{
 "cells": [
  {
   "cell_type": "code",
   "execution_count": 7,
   "metadata": {
    "id": "k44jrA4DHJLi",
    "pycharm": {
     "name": "#%%\n"
    }
   },
   "outputs": [],
   "source": [
    "# Импортирование необходимых библиотек\n",
    "import datetime\n",
    "import pandas as pd\n",
    "import numpy as np\n",
    "from joblib import dump\n",
    "from sklearn.model_selection import train_test_split\n",
    "from sklearn.linear_model import LinearRegression\n",
    "from sklearn.metrics import mean_squared_error\n",
    "import matplotlib.pyplot as plt\n",
    "from sklearn.metrics import mean_absolute_error\n",
    "from datetime import datetime\n",
    "from sklearn.metrics import mean_squared_error, mean_squared_log_error, mean_absolute_error\n",
    "from sklearn.ensemble import RandomForestRegressor\n",
    "from sklearn.metrics import mean_absolute_error, mean_squared_error, r2_score\n",
    "from sklearn.model_selection import train_test_split\n",
    "\n"
   ]
  },
  {
   "cell_type": "code",
   "execution_count": 8,
   "metadata": {
    "pycharm": {
     "name": "#%%\n"
    }
   },
   "outputs": [],
   "source": [
    "train_dataset = pd.read_csv('../data/backup/train_dataset.csv')\n",
    "test_dataset = pd.read_csv('../data/backup/test_dataset.csv')"
   ]
  },
  {
   "cell_type": "code",
   "execution_count": 9,
   "metadata": {
    "pycharm": {
     "name": "#%%\n"
    }
   },
   "outputs": [],
   "source": [
    "# #отрежем месяц для проверки через другой датасет\n",
    "# secret_df = test_dataset.iloc[-720:]\n",
    "# secret_df.to_csv(\"secret.csv\",float_format='%.5f',mode='w',index=False)"
   ]
  },
  {
   "cell_type": "code",
   "execution_count": 10,
   "metadata": {
    "id": "u4ASpQAXHnwg",
    "pycharm": {
     "name": "#%%\n"
    }
   },
   "outputs": [],
   "source": [
    "\n",
    "# Сначала объедините колонки \"date\" и \"time\" в одну колонку \"datetime\"\n",
    "\n",
    "def make_dt_col(row_date,row_time):\n",
    "    return pd.to_datetime(row_date)+pd.to_timedelta(row_time,unit='h')\n",
    "train_dataset['datetime']=train_dataset.apply(lambda x: make_dt_col(x['date'],x['time']),axis=1)\n",
    "\n",
    "test_dataset['datetime']=test_dataset.apply(lambda x: make_dt_col(x['date'],x['time']),axis=1)"
   ]
  },
  {
   "cell_type": "code",
   "execution_count": 11,
   "metadata": {
    "colab": {
     "base_uri": "https://localhost:8080/"
    },
    "id": "NIWJp2LtIShT",
    "outputId": "981fa727-3b70-4724-877b-a9803641f652",
    "pycharm": {
     "name": "#%%\n"
    }
   },
   "outputs": [
    {
     "name": "stdout",
     "output_type": "stream",
     "text": [
      "Index(['date', 'time', 'target', 'temp', 'temp_pred', 'weather_pred',\n",
      "       'weather_fact'],\n",
      "      dtype='object')\n",
      "Index(['date', 'time', 'target', 'temp', 'temp_pred', 'weather_pred',\n",
      "       'weather_fact'],\n",
      "      dtype='object')\n"
     ]
    }
   ],
   "source": [
    "# Установите \"datetime\" в качестве индекса\n",
    "train_dataset.set_index('datetime', inplace=True)\n",
    "print(train_dataset.columns)\n",
    "test_dataset.set_index('datetime', inplace=True)\n",
    "print(test_dataset.columns)"
   ]
  },
  {
   "cell_type": "code",
   "execution_count": 12,
   "metadata": {
    "colab": {
     "base_uri": "https://localhost:8080/"
    },
    "id": "sv13uQT_ISpi",
    "outputId": "c673aa3f-1f8d-483d-f6dd-69bab504c6f4",
    "pycharm": {
     "name": "#%%\n"
    }
   },
   "outputs": [
    {
     "name": "stdout",
     "output_type": "stream",
     "text": [
      "Index(['date', 'time', 'target', 'temp', 'temp_pred', 'weather_pred',\n",
      "       'weather_fact'],\n",
      "      dtype='object')\n",
      "Index(['date', 'time', 'target', 'temp', 'temp_pred', 'weather_pred',\n",
      "       'weather_fact'],\n",
      "      dtype='object')\n"
     ]
    }
   ],
   "source": [
    "# Если вам нужно убедиться, что индекс отсортирован, вы можете использовать\n",
    "train_dataset.sort_index(inplace=True)\n",
    "print(train_dataset.columns)\n",
    "test_dataset.sort_index(inplace=True)\n",
    "print(train_dataset.columns)"
   ]
  },
  {
   "cell_type": "code",
   "execution_count": 13,
   "metadata": {
    "colab": {
     "base_uri": "https://localhost:8080/"
    },
    "id": "zIXwwJzjJfa_",
    "outputId": "6bbbf10f-1ca0-4a02-bce1-83b61449e720",
    "pycharm": {
     "name": "#%%\n"
    }
   },
   "outputs": [],
   "source": [
    "# # Выберите только те столбцы, которые вы хотите преобразовать в числовой формат\n",
    "# columns_to_convert = train_dataset.columns[:-2]  # Исключаем последние два столбца\n",
    "# columns_to_convert = test_dataset.columns[:-2]  # Исключаем последние два столбца\n",
    "# print(test_dataset.head())"
   ]
  },
  {
   "cell_type": "code",
   "execution_count": 14,
   "metadata": {
    "pycharm": {
     "name": "#%%\n"
    }
   },
   "outputs": [
    {
     "data": {
      "text/html": [
       "<div>\n",
       "<style scoped>\n",
       "    .dataframe tbody tr th:only-of-type {\n",
       "        vertical-align: middle;\n",
       "    }\n",
       "\n",
       "    .dataframe tbody tr th {\n",
       "        vertical-align: top;\n",
       "    }\n",
       "\n",
       "    .dataframe thead th {\n",
       "        text-align: right;\n",
       "    }\n",
       "</style>\n",
       "<table border=\"1\" class=\"dataframe\">\n",
       "  <thead>\n",
       "    <tr style=\"text-align: right;\">\n",
       "      <th></th>\n",
       "      <th>date</th>\n",
       "      <th>time</th>\n",
       "      <th>target</th>\n",
       "      <th>temp</th>\n",
       "      <th>temp_pred</th>\n",
       "      <th>weather_pred</th>\n",
       "      <th>weather_fact</th>\n",
       "    </tr>\n",
       "    <tr>\n",
       "      <th>datetime</th>\n",
       "      <th></th>\n",
       "      <th></th>\n",
       "      <th></th>\n",
       "      <th></th>\n",
       "      <th></th>\n",
       "      <th></th>\n",
       "      <th></th>\n",
       "    </tr>\n",
       "  </thead>\n",
       "  <tbody>\n",
       "    <tr>\n",
       "      <th>2023-04-01 00:00:00</th>\n",
       "      <td>2023-04-01</td>\n",
       "      <td>0</td>\n",
       "      <td>479.282</td>\n",
       "      <td>5.7</td>\n",
       "      <td>5.0</td>\n",
       "      <td>пасм, 58%</td>\n",
       "      <td>пасм, морось</td>\n",
       "    </tr>\n",
       "    <tr>\n",
       "      <th>2023-04-01 01:00:00</th>\n",
       "      <td>2023-04-01</td>\n",
       "      <td>1</td>\n",
       "      <td>445.182</td>\n",
       "      <td>5.7</td>\n",
       "      <td>5.0</td>\n",
       "      <td>пасм, 58%</td>\n",
       "      <td>пасм, морось</td>\n",
       "    </tr>\n",
       "    <tr>\n",
       "      <th>2023-04-01 02:00:00</th>\n",
       "      <td>2023-04-01</td>\n",
       "      <td>2</td>\n",
       "      <td>424.225</td>\n",
       "      <td>5.7</td>\n",
       "      <td>5.0</td>\n",
       "      <td>пасм, 58%</td>\n",
       "      <td>пасм, морось</td>\n",
       "    </tr>\n",
       "    <tr>\n",
       "      <th>2023-04-01 03:00:00</th>\n",
       "      <td>2023-04-01</td>\n",
       "      <td>3</td>\n",
       "      <td>413.866</td>\n",
       "      <td>5.0</td>\n",
       "      <td>4.0</td>\n",
       "      <td>пасм, 71% дождь</td>\n",
       "      <td>пасм, дымка</td>\n",
       "    </tr>\n",
       "    <tr>\n",
       "      <th>2023-04-01 04:00:00</th>\n",
       "      <td>2023-04-01</td>\n",
       "      <td>4</td>\n",
       "      <td>408.146</td>\n",
       "      <td>5.0</td>\n",
       "      <td>4.0</td>\n",
       "      <td>пасм, 71% дождь</td>\n",
       "      <td>пасм, дымка</td>\n",
       "    </tr>\n",
       "    <tr>\n",
       "      <th>...</th>\n",
       "      <td>...</td>\n",
       "      <td>...</td>\n",
       "      <td>...</td>\n",
       "      <td>...</td>\n",
       "      <td>...</td>\n",
       "      <td>...</td>\n",
       "      <td>...</td>\n",
       "    </tr>\n",
       "    <tr>\n",
       "      <th>2023-07-31 19:00:00</th>\n",
       "      <td>2023-07-31</td>\n",
       "      <td>19</td>\n",
       "      <td>453.173</td>\n",
       "      <td>17.2</td>\n",
       "      <td>18.0</td>\n",
       "      <td>пасм, 24% дождь</td>\n",
       "      <td>п/обл</td>\n",
       "    </tr>\n",
       "    <tr>\n",
       "      <th>2023-07-31 20:00:00</th>\n",
       "      <td>2023-07-31</td>\n",
       "      <td>20</td>\n",
       "      <td>446.287</td>\n",
       "      <td>17.2</td>\n",
       "      <td>18.0</td>\n",
       "      <td>пасм, 24% дождь</td>\n",
       "      <td>п/обл</td>\n",
       "    </tr>\n",
       "    <tr>\n",
       "      <th>2023-07-31 21:00:00</th>\n",
       "      <td>2023-07-31</td>\n",
       "      <td>21</td>\n",
       "      <td>444.373</td>\n",
       "      <td>15.8</td>\n",
       "      <td>17.0</td>\n",
       "      <td>пасм, 24% дождь</td>\n",
       "      <td>п/обл</td>\n",
       "    </tr>\n",
       "    <tr>\n",
       "      <th>2023-07-31 22:00:00</th>\n",
       "      <td>2023-07-31</td>\n",
       "      <td>22</td>\n",
       "      <td>449.078</td>\n",
       "      <td>15.8</td>\n",
       "      <td>17.0</td>\n",
       "      <td>пасм, 24% дождь</td>\n",
       "      <td>п/обл</td>\n",
       "    </tr>\n",
       "    <tr>\n",
       "      <th>2023-07-31 23:00:00</th>\n",
       "      <td>2023-07-31</td>\n",
       "      <td>23</td>\n",
       "      <td>416.078</td>\n",
       "      <td>15.8</td>\n",
       "      <td>17.0</td>\n",
       "      <td>пасм, 24% дождь</td>\n",
       "      <td>п/обл</td>\n",
       "    </tr>\n",
       "  </tbody>\n",
       "</table>\n",
       "<p>2928 rows × 7 columns</p>\n",
       "</div>"
      ],
      "text/plain": [
       "                           date  time   target  temp  temp_pred  \\\n",
       "datetime                                                          \n",
       "2023-04-01 00:00:00  2023-04-01     0  479.282   5.7        5.0   \n",
       "2023-04-01 01:00:00  2023-04-01     1  445.182   5.7        5.0   \n",
       "2023-04-01 02:00:00  2023-04-01     2  424.225   5.7        5.0   \n",
       "2023-04-01 03:00:00  2023-04-01     3  413.866   5.0        4.0   \n",
       "2023-04-01 04:00:00  2023-04-01     4  408.146   5.0        4.0   \n",
       "...                         ...   ...      ...   ...        ...   \n",
       "2023-07-31 19:00:00  2023-07-31    19  453.173  17.2       18.0   \n",
       "2023-07-31 20:00:00  2023-07-31    20  446.287  17.2       18.0   \n",
       "2023-07-31 21:00:00  2023-07-31    21  444.373  15.8       17.0   \n",
       "2023-07-31 22:00:00  2023-07-31    22  449.078  15.8       17.0   \n",
       "2023-07-31 23:00:00  2023-07-31    23  416.078  15.8       17.0   \n",
       "\n",
       "                        weather_pred  weather_fact  \n",
       "datetime                                            \n",
       "2023-04-01 00:00:00        пасм, 58%  пасм, морось  \n",
       "2023-04-01 01:00:00        пасм, 58%  пасм, морось  \n",
       "2023-04-01 02:00:00        пасм, 58%  пасм, морось  \n",
       "2023-04-01 03:00:00  пасм, 71% дождь   пасм, дымка  \n",
       "2023-04-01 04:00:00  пасм, 71% дождь   пасм, дымка  \n",
       "...                              ...           ...  \n",
       "2023-07-31 19:00:00  пасм, 24% дождь         п/обл  \n",
       "2023-07-31 20:00:00  пасм, 24% дождь         п/обл  \n",
       "2023-07-31 21:00:00  пасм, 24% дождь         п/обл  \n",
       "2023-07-31 22:00:00  пасм, 24% дождь         п/обл  \n",
       "2023-07-31 23:00:00  пасм, 24% дождь         п/обл  \n",
       "\n",
       "[2928 rows x 7 columns]"
      ]
     },
     "execution_count": 14,
     "metadata": {},
     "output_type": "execute_result"
    }
   ],
   "source": [
    "test_dataset['time'] = test_dataset['time'].apply(int)\n",
    "test_dataset"
   ]
  },
  {
   "cell_type": "code",
   "execution_count": 15,
   "metadata": {
    "id": "W6gXzvcfJfd0",
    "pycharm": {
     "name": "#%%\n"
    }
   },
   "outputs": [],
   "source": [
    "\n",
    "# Заменить все нечисловые значения на NaN\n",
    "train_dataset = train_dataset.apply(pd.to_numeric, errors='coerce')\n",
    "test_dataset = test_dataset.apply(pd.to_numeric, errors='coerce')\n"
   ]
  },
  {
   "cell_type": "code",
   "execution_count": 16,
   "metadata": {
    "id": "C05RlE9XKIxg",
    "pycharm": {
     "name": "#%%\n"
    }
   },
   "outputs": [],
   "source": [
    "\n",
    "# Продолжайте с преобразованием в числовой формат и дальнейшей обработкой данных\n",
    "train_dataset = train_dataset.astype('float32')\n",
    "columns_to_convert = train_dataset.columns[:-2]\n",
    "\n",
    "test_dataset = test_dataset.astype('float32')\n",
    "columns_to_convert = test_dataset.columns[:-2]"
   ]
  },
  {
   "cell_type": "code",
   "execution_count": 17,
   "metadata": {
    "id": "TMg9c-4JKI0L",
    "pycharm": {
     "name": "#%%\n"
    }
   },
   "outputs": [],
   "source": [
    "# Заполнение пропущенных значений средними значениями\n",
    "train_dataset['temp'].fillna(train_dataset['temp'].mean(), inplace=True)\n",
    "test_dataset['temp'].fillna(test_dataset['temp'].mean(), inplace=True)\n",
    "train_dataset['temp_pred'].fillna(train_dataset['temp_pred'].mean(), inplace=True)\n",
    "test_dataset['temp_pred'].fillna(test_dataset['temp_pred'].mean(), inplace=True)"
   ]
  },
  {
   "cell_type": "code",
   "execution_count": 18,
   "metadata": {
    "colab": {
     "base_uri": "https://localhost:8080/"
    },
    "id": "aABWO4fJKI2o",
    "outputId": "51ff516a-f8b6-49c5-f389-26c813cd95cd",
    "pycharm": {
     "name": "#%%\n"
    }
   },
   "outputs": [
    {
     "name": "stdout",
     "output_type": "stream",
     "text": [
      "Тренировочные данные:\n",
      "                     date  time      target  temp  temp_pred  weather_pred  \\\n",
      "datetime                                                                     \n",
      "2019-01-01 00:00:00   NaN   0.0  481.510010   2.9        2.0           NaN   \n",
      "2019-01-01 01:00:00   NaN   1.0  462.872009   2.9        2.0           NaN   \n",
      "2019-01-01 02:00:00   NaN   2.0  449.717987   2.9        2.0           NaN   \n",
      "2019-01-01 03:00:00   NaN   3.0  430.907990   4.3        2.0           NaN   \n",
      "2019-01-01 04:00:00   NaN   4.0  415.162994   4.3        2.0           NaN   \n",
      "\n",
      "                     weather_fact  \n",
      "datetime                           \n",
      "2019-01-01 00:00:00           NaN  \n",
      "2019-01-01 01:00:00           NaN  \n",
      "2019-01-01 02:00:00           NaN  \n",
      "2019-01-01 03:00:00           NaN  \n",
      "2019-01-01 04:00:00           NaN  \n",
      "Тестовые данные:\n",
      "                     date  time      target  temp  temp_pred  weather_pred  \\\n",
      "datetime                                                                     \n",
      "2023-04-01 00:00:00   NaN   0.0  479.282013   5.7        5.0           NaN   \n",
      "2023-04-01 01:00:00   NaN   1.0  445.182007   5.7        5.0           NaN   \n",
      "2023-04-01 02:00:00   NaN   2.0  424.225006   5.7        5.0           NaN   \n",
      "2023-04-01 03:00:00   NaN   3.0  413.865997   5.0        4.0           NaN   \n",
      "2023-04-01 04:00:00   NaN   4.0  408.145996   5.0        4.0           NaN   \n",
      "\n",
      "                     weather_fact  \n",
      "datetime                           \n",
      "2023-04-01 00:00:00           NaN  \n",
      "2023-04-01 01:00:00           NaN  \n",
      "2023-04-01 02:00:00           NaN  \n",
      "2023-04-01 03:00:00           NaN  \n",
      "2023-04-01 04:00:00           NaN  \n"
     ]
    }
   ],
   "source": [
    "# Просмотр данных\n",
    "print(\"Тренировочные данные:\")\n",
    "print(train_dataset.head())\n",
    "\n",
    "print(\"Тестовые данные:\")\n",
    "print(test_dataset.head())\n"
   ]
  },
  {
   "cell_type": "code",
   "execution_count": 19,
   "metadata": {
    "id": "_jhLFxAlKQ-c",
    "pycharm": {
     "name": "#%%\n"
    }
   },
   "outputs": [],
   "source": [
    "# Теперь выберите числовые признаки для обучения\n",
    "X_train = train_dataset[['temp', 'time','temp_pred']]\n",
    "y_train = train_dataset['target']\n",
    "\n",
    "X_test = test_dataset[['temp', 'time','temp_pred']]\n",
    "y_test = test_dataset['target']"
   ]
  },
  {
   "cell_type": "markdown",
   "metadata": {
    "pycharm": {
     "name": "#%% md\n"
    }
   },
   "source": [
    "Создание и обучение моделей"
   ]
  },
  {
   "cell_type": "code",
   "execution_count": 20,
   "metadata": {
    "id": "5KEv2hR-wafQ",
    "pycharm": {
     "name": "#%%\n"
    }
   },
   "outputs": [],
   "source": [
    "# # Линейная регрессия\n",
    "model_lr = LinearRegression()\n",
    "model_lr.fit(X_train, y_train)\n",
    "y_pred_lr = model_lr.predict(X_test)"
   ]
  },
  {
   "cell_type": "code",
   "execution_count": 21,
   "metadata": {
    "id": "CjIDoLDKwei4",
    "pycharm": {
     "name": "#%%\n"
    }
   },
   "outputs": [],
   "source": [
    "# # Случайный лес\n",
    "model_rf = RandomForestRegressor(n_estimators=100, random_state=0)\n",
    "model_rf.fit(X_train, y_train)\n",
    "y_pred_rf = model_rf.predict(X_test)"
   ]
  },
  {
   "cell_type": "code",
   "execution_count": 22,
   "metadata": {
    "colab": {
     "base_uri": "https://localhost:8080/"
    },
    "id": "cpOtt14gwhqs",
    "outputId": "46259f5f-6478-47e7-8990-129a87cbd893",
    "pycharm": {
     "name": "#%%\n"
    }
   },
   "outputs": [
    {
     "name": "stdout",
     "output_type": "stream",
     "text": [
      "MAPE (Linear Regression): 14.48%\n",
      "MAPE (Random Forest): 6.43%\n"
     ]
    }
   ],
   "source": [
    "# MAPE (Mean Absolute Percentage Error)\n",
    "def calculate_mape(y_true, y_pred):\n",
    "    return np.mean(np.abs((y_true - y_pred) / y_true)) * 100\n",
    "\n",
    "mape_lr = calculate_mape(y_test, y_pred_lr)\n",
    "mape_rf = calculate_mape(y_test, y_pred_rf)\n",
    "\n",
    "print(\"MAPE (Linear Regression): {:.2f}%\".format(mape_lr))\n",
    "print(\"MAPE (Random Forest): {:.2f}%\".format(mape_rf))"
   ]
  },
  {
   "cell_type": "code",
   "execution_count": 23,
   "metadata": {
    "colab": {
     "base_uri": "https://localhost:8080/"
    },
    "id": "bx2Ob2u9wnv2",
    "outputId": "a7cee3e0-d2bd-4ed7-acf8-5c5f4093d60c",
    "pycharm": {
     "name": "#%%\n"
    }
   },
   "outputs": [
    {
     "name": "stdout",
     "output_type": "stream",
     "text": [
      "R2 Score (Linear Regression): 0.12\n",
      "R2 Score (Random Forest): 0.74\n"
     ]
    }
   ],
   "source": [
    "# R2 score\n",
    "r2_lr = r2_score(y_test, y_pred_lr)\n",
    "r2_rf = r2_score(y_test, y_pred_rf)\n",
    "print(\"R2 Score (Linear Regression): {:.2f}\".format(r2_lr))\n",
    "print(\"R2 Score (Random Forest): {:.2f}\".format(r2_rf))"
   ]
  },
  {
   "cell_type": "code",
   "execution_count": 24,
   "metadata": {
    "pycharm": {
     "name": "#%%\n"
    }
   },
   "outputs": [
    {
     "name": "stdout",
     "output_type": "stream",
     "text": [
      "По модели линейной регрессии:\n",
      "Mean Absolute Error (MAE): 56.45035\n",
      "По модели рандом форест:\n",
      "Mean Absolute Error (MAE): 26.702991030046263\n"
     ]
    }
   ],
   "source": [
    "# Вычисление MAE\n",
    "def show_mae(y1,y2):\n",
    "    print(\"Mean Absolute Error (MAE):\",mean_absolute_error(y1,y2))\n",
    "print(\"По модели линейной регрессии:\")\n",
    "show_mae(y_test,y_pred_lr)\n",
    "print(\"По модели рандом форест:\")\n",
    "show_mae(y_test,y_pred_rf)"
   ]
  },
  {
   "cell_type": "markdown",
   "metadata": {
    "pycharm": {
     "name": "#%% md\n"
    }
   },
   "source": [
    "выбираем модель рандом форест по лучшим показателям"
   ]
  },
  {
   "cell_type": "code",
   "execution_count": 25,
   "metadata": {
    "colab": {
     "base_uri": "https://localhost:8080/"
    },
    "id": "QawYGNOA6JUN",
    "outputId": "ad7d35ef-f833-4614-eff1-254a5de8a312",
    "pycharm": {
     "name": "#%%\n"
    }
   },
   "outputs": [
    {
     "name": "stdout",
     "output_type": "stream",
     "text": [
      "[451.16028816 423.47622755 394.42661304 ... 436.87330785 446.05085996\n",
      " 422.69330358]\n"
     ]
    }
   ],
   "source": [
    "\n",
    "y_pred = y_pred_rf\n",
    "model = model_rf\n",
    "# И выводим предсказания\n",
    "print(y_pred)"
   ]
  },
  {
   "cell_type": "markdown",
   "metadata": {
    "pycharm": {
     "name": "#%% md\n"
    }
   },
   "source": [
    "Сохраняем модель в файл через joblib"
   ]
  },
  {
   "cell_type": "code",
   "execution_count": 26,
   "metadata": {
    "pycharm": {
     "name": "#%%\n"
    }
   },
   "outputs": [],
   "source": [
    "\n",
    "with open(\"../model/trained.joblib\",\"wb\") as dump_file:\n",
    "    dump(model,dump_file)"
   ]
  },
  {
   "cell_type": "code",
   "execution_count": null,
   "outputs": [],
   "source": [
    "# Создаем график\n",
    "plt.figure(figsize=(20, 12))\n",
    "# Рисуем точки с исходными данными из тестового набора данных\n",
    "plt.scatter(X_test['temp'], y_test, label='Исходные данные', color='blue')\n",
    "# Рисуем предсказания модели\n",
    "plt.scatter(X_test['temp'], y_pred, label='Предсказания', color='red', marker='x')\n",
    "# Добавляем легенду\n",
    "plt.legend(loc='upper left')\n",
    "# Добавляем подписи к осям\n",
    "plt.xlabel('Температура')\n",
    "plt.ylabel('Потребление')\n",
    "# Отображаем график\n",
    "plt.show()"
   ],
   "metadata": {
    "collapsed": false,
    "pycharm": {
     "name": "#%%\n"
    }
   }
  }
 ],
 "metadata": {
  "colab": {
   "provenance": []
  },
  "kernelspec": {
   "display_name": "Python 3",
   "name": "python3"
  },
  "language_info": {
   "codemirror_mode": {
    "name": "ipython",
    "version": 3
   },
   "file_extension": ".py",
   "mimetype": "text/x-python",
   "name": "python",
   "nbconvert_exporter": "python",
   "pygments_lexer": "ipython3",
   "version": "3.10.4"
  }
 },
 "nbformat": 4,
 "nbformat_minor": 0
}