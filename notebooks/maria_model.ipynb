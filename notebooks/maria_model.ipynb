{
 "cells": [
  {
   "cell_type": "code",
   "execution_count": 1,
   "metadata": {
    "id": "k44jrA4DHJLi",
    "pycharm": {
     "name": "#%%\n"
    }
   },
   "outputs": [],
   "source": [
    "# Импортирование необходимых библиотек\n",
    "import datetime\n",
    "import pandas as pd\n",
    "import numpy as np\n",
    "from joblib import dump\n",
    "from sklearn.model_selection import train_test_split\n",
    "from sklearn.linear_model import LinearRegression\n",
    "from sklearn.metrics import mean_squared_error\n",
    "import matplotlib.pyplot as plt\n",
    "from sklearn.metrics import mean_absolute_error\n",
    "from datetime import datetime\n",
    "from sklearn.metrics import mean_squared_error, mean_squared_log_error, mean_absolute_error\n",
    "from sklearn.ensemble import RandomForestRegressor\n",
    "from sklearn.metrics import mean_absolute_error, mean_squared_error, r2_score\n",
    "from sklearn.model_selection import train_test_split\n",
    "\n"
   ]
  },
  {
   "cell_type": "code",
   "execution_count": 2,
   "metadata": {
    "pycharm": {
     "name": "#%%\n"
    }
   },
   "outputs": [],
   "source": [
    "train_dataset = pd.read_csv('../data/backup/train_dataset.csv')\n",
    "test_dataset = pd.read_csv('../data/backup/test_dataset.csv')"
   ]
  },
  {
   "cell_type": "code",
   "execution_count": 9,
   "metadata": {
    "pycharm": {
     "name": "#%%\n"
    }
   },
   "outputs": [],
   "source": [
    "# #отрежем месяц для проверки через другой датасет\n",
    "# secret_df = test_dataset.iloc[-720:]\n",
    "# secret_df.to_csv(\"secret.csv\",float_format='%.5f',mode='w',index=False)"
   ]
  },
  {
   "cell_type": "code",
   "execution_count": 3,
   "metadata": {
    "id": "u4ASpQAXHnwg",
    "pycharm": {
     "name": "#%%\n"
    }
   },
   "outputs": [],
   "source": [
    "\n",
    "# Сначала объедините колонки \"date\" и \"time\" в одну колонку \"datetime\"\n",
    "\n",
    "def make_dt_col(row_date,row_time):\n",
    "    return pd.to_datetime(row_date)+pd.to_timedelta(row_time,unit='h')\n",
    "train_dataset['datetime']=train_dataset.apply(lambda x: make_dt_col(x['date'],x['time']),axis=1)\n",
    "\n",
    "test_dataset['datetime']=test_dataset.apply(lambda x: make_dt_col(x['date'],x['time']),axis=1)"
   ]
  },
  {
   "cell_type": "code",
   "execution_count": null,
   "outputs": [],
   "source": [
    "# Установите \"datetime\" в качестве индекса\n",
    "train_dataset.set_index('datetime', inplace=True)\n",
    "test_dataset.set_index('datetime', inplace=True)"
   ],
   "metadata": {
    "collapsed": false,
    "pycharm": {
     "name": "#%%\n"
    }
   }
  },
  {
   "cell_type": "code",
   "execution_count": null,
   "outputs": [],
   "source": [
    "# Если вам нужно убедиться, что индекс отсортирован, вы можете использовать\n",
    "train_dataset.sort_index(inplace=True)\n",
    "test_dataset.sort_index(inplace=True)\n",
    "print(train_dataset.columns)\n",
    "print(train_dataset.columns)"
   ],
   "metadata": {
    "collapsed": false,
    "pycharm": {
     "name": "#%%\n"
    }
   }
  },
  {
   "cell_type": "code",
   "execution_count": null,
   "outputs": [],
   "source": [
    "# # Выберите только те столбцы, которые вы хотите преобразовать в числовой формат\n",
    "# columns_to_convert = train_dataset.columns[:-2]  # Исключаем последние два столбца\n",
    "# columns_to_convert = test_dataset.columns[:-2]  # Исключаем последние два столбца\n",
    "# print(test_dataset.head())"
   ],
   "metadata": {
    "collapsed": false,
    "pycharm": {
     "name": "#%%\n"
    }
   }
  },
  {
   "cell_type": "code",
   "execution_count": null,
   "outputs": [],
   "source": [
    "test_dataset['time'] = test_dataset['time'].apply(int)\n",
    "test_dataset"
   ],
   "metadata": {
    "collapsed": false,
    "pycharm": {
     "name": "#%%\n"
    }
   }
  },
  {
   "cell_type": "code",
   "execution_count": null,
   "outputs": [],
   "source": [
    "\n",
    "# Заменить все нечисловые значения на NaN\n",
    "train_dataset = train_dataset.apply(pd.to_numeric, errors='coerce')\n",
    "test_dataset = test_dataset.apply(pd.to_numeric, errors='coerce')\n"
   ],
   "metadata": {
    "collapsed": false,
    "pycharm": {
     "name": "#%%\n"
    }
   }
  },
  {
   "cell_type": "code",
   "execution_count": null,
   "outputs": [],
   "source": [
    "\n",
    "# Продолжайте с преобразованием в числовой формат и дальнейшей обработкой данных\n",
    "train_dataset = train_dataset.astype('float32')\n",
    "columns_to_convert = train_dataset.columns[:-2]\n",
    "\n",
    "test_dataset = test_dataset.astype('float32')\n",
    "columns_to_convert = test_dataset.columns[:-2]"
   ],
   "metadata": {
    "collapsed": false,
    "pycharm": {
     "name": "#%%\n"
    }
   }
  },
  {
   "cell_type": "code",
   "execution_count": null,
   "outputs": [],
   "source": [
    "# Заполнение пропущенных значений средними значениями\n",
    "train_dataset['temp'].fillna(train_dataset['temp'].mean(), inplace=True)\n",
    "test_dataset['temp'].fillna(test_dataset['temp'].mean(), inplace=True)\n",
    "train_dataset['temp_pred'].fillna(train_dataset['temp_pred'].mean(), inplace=True)\n",
    "test_dataset['temp_pred'].fillna(test_dataset['temp_pred'].mean(), inplace=True)"
   ],
   "metadata": {
    "collapsed": false,
    "pycharm": {
     "name": "#%%\n"
    }
   }
  },
  {
   "cell_type": "code",
   "execution_count": null,
   "outputs": [],
   "source": [
    "# Просмотр данных\n",
    "print(\"Тренировочные данные:\")\n",
    "print(train_dataset.head())\n",
    "\n",
    "print(\"Тестовые данные:\")\n",
    "print(test_dataset.head())\n"
   ],
   "metadata": {
    "collapsed": false,
    "pycharm": {
     "name": "#%%\n"
    }
   }
  },
  {
   "cell_type": "code",
   "execution_count": null,
   "outputs": [],
   "source": [
    "# Теперь выберите числовые признаки для обучения\n",
    "X_train = train_dataset[['temp', 'time','temp_pred']]\n",
    "y_train = train_dataset['target']\n",
    "\n",
    "X_test = test_dataset[['temp', 'time','temp_pred']]\n",
    "y_test = test_dataset['target']"
   ],
   "metadata": {
    "collapsed": false,
    "pycharm": {
     "name": "#%%\n"
    }
   }
  },
  {
   "cell_type": "markdown",
   "source": [
    "Создание и обучение моделей"
   ],
   "metadata": {
    "collapsed": false,
    "pycharm": {
     "name": "#%% md\n"
    }
   }
  },
  {
   "cell_type": "code",
   "execution_count": null,
   "outputs": [],
   "source": [
    "# # Линейная регрессия\n",
    "model_lr = LinearRegression()\n",
    "model_lr.fit(X_train, y_train)\n",
    "y_pred_lr = model_lr.predict(X_test)"
   ],
   "metadata": {
    "collapsed": false,
    "pycharm": {
     "name": "#%%\n"
    }
   }
  },
  {
   "cell_type": "code",
   "execution_count": null,
   "outputs": [],
   "source": [
    "# # Случайный лес\n",
    "model_rf = RandomForestRegressor(n_estimators=100, random_state=0)\n",
    "model_rf.fit(X_train, y_train)\n",
    "y_pred_rf = model_rf.predict(X_test)"
   ],
   "metadata": {
    "collapsed": false,
    "pycharm": {
     "name": "#%%\n"
    }
   }
  },
  {
   "cell_type": "code",
   "execution_count": null,
   "outputs": [],
   "source": [
    "# MAPE (Mean Absolute Percentage Error)\n",
    "def calculate_mape(y_true, y_pred):\n",
    "    return np.mean(np.abs((y_true - y_pred) / y_true)) * 100\n",
    "\n",
    "mape_lr = calculate_mape(y_test, y_pred_lr)\n",
    "mape_rf = calculate_mape(y_test, y_pred_rf)\n",
    "\n",
    "print(\"MAPE (Linear Regression): {:.2f}%\".format(mape_lr))\n",
    "print(\"MAPE (Random Forest): {:.2f}%\".format(mape_rf))"
   ],
   "metadata": {
    "collapsed": false,
    "pycharm": {
     "name": "#%%\n"
    }
   }
  },
  {
   "cell_type": "code",
   "execution_count": null,
   "outputs": [],
   "source": [
    "# R2 score\n",
    "r2_lr = r2_score(y_test, y_pred_lr)\n",
    "r2_rf = r2_score(y_test, y_pred_rf)\n",
    "print(\"R2 Score (Linear Regression): {:.2f}\".format(r2_lr))\n",
    "print(\"R2 Score (Random Forest): {:.2f}\".format(r2_rf))"
   ],
   "metadata": {
    "collapsed": false,
    "pycharm": {
     "name": "#%%\n"
    }
   }
  },
  {
   "cell_type": "code",
   "execution_count": null,
   "outputs": [],
   "source": [
    "# Вычисление MAE\n",
    "def show_mae(y1,y2):\n",
    "    print(\"Mean Absolute Error (MAE):\",mean_absolute_error(y1,y2))\n",
    "print(\"По модели линейной регрессии:\")\n",
    "show_mae(y_test,y_pred_lr)\n",
    "print(\"По модели рандом форест:\")\n",
    "show_mae(y_test,y_pred_rf)"
   ],
   "metadata": {
    "collapsed": false,
    "pycharm": {
     "name": "#%%\n"
    }
   }
  },
  {
   "cell_type": "markdown",
   "source": [
    "выбираем модель рандом форест по лучшим показателям"
   ],
   "metadata": {
    "collapsed": false,
    "pycharm": {
     "name": "#%% md\n"
    }
   }
  },
  {
   "cell_type": "code",
   "execution_count": null,
   "outputs": [],
   "source": [
    "\n",
    "y_pred = y_pred_rf\n",
    "model = model_rf\n",
    "# И выводим предсказания\n",
    "print(y_pred)"
   ],
   "metadata": {
    "collapsed": false,
    "pycharm": {
     "name": "#%%\n"
    }
   }
  },
  {
   "cell_type": "markdown",
   "source": [
    "Сохраняем модель в файл через joblib"
   ],
   "metadata": {
    "collapsed": false,
    "pycharm": {
     "name": "#%% md\n"
    }
   }
  },
  {
   "cell_type": "code",
   "execution_count": null,
   "outputs": [],
   "source": [
    "\n",
    "with open(\"../model/trained.joblib\",\"wb\") as dump_file:\n",
    "    dump(model,dump_file)"
   ],
   "metadata": {
    "collapsed": false,
    "pycharm": {
     "name": "#%%\n"
    }
   }
  },
  {
   "cell_type": "code",
   "execution_count": null,
   "outputs": [],
   "source": [
    "# Создаем график\n",
    "plt.figure(figsize=(20, 12))\n",
    "# Рисуем точки с исходными данными из тестового набора данных\n",
    "plt.scatter(X_test['temp'], y_test, label='Исходные данные', color='blue')\n",
    "# Рисуем предсказания модели\n",
    "plt.scatter(X_test['temp'], y_pred, label='Предсказания', color='red', marker='x')\n",
    "# Добавляем легенду\n",
    "plt.legend(loc='upper left')\n",
    "# Добавляем подписи к осям\n",
    "plt.xlabel('Температура')\n",
    "plt.ylabel('Потребление')\n",
    "# Отображаем график\n",
    "plt.show()"
   ],
   "metadata": {
    "collapsed": false,
    "pycharm": {
     "name": "#%%\n"
    }
   }
  }
 ],
 "metadata": {
  "colab": {
   "provenance": []
  },
  "kernelspec": {
   "display_name": "Python 3",
   "name": "python3"
  },
  "language_info": {
   "codemirror_mode": {
    "name": "ipython",
    "version": 3
   },
   "file_extension": ".py",
   "mimetype": "text/x-python",
   "name": "python",
   "nbconvert_exporter": "python",
   "pygments_lexer": "ipython3",
   "version": "3.10.4"
  }
 },
 "nbformat": 4,
 "nbformat_minor": 0
}